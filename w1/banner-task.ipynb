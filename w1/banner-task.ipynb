{
 "cells": [
  {
   "cell_type": "markdown",
   "metadata": {},
   "source": [
    "Представим, что международное круизное агентство Carnival Cruise Line решило себя разрекламировать с помощью баннеров и обратилось для этого к вам. Чтобы протестировать, велика ли от таких баннеров польза, их будет размещено всего 20 штук по всему миру. Вам надо выбрать 20 таких локаций для размещения, чтобы польза была большой и агентство продолжило с вами сотрудничать.\n",
    "\n",
    "Агентство крупное, и у него есть несколько офисов по всему миру. Вблизи этих офисов оно и хочет разместить баннеры — легче договариваться и проверять результат. Также эти места должны быть популярны среди туристов.\n",
    "\n",
    "Для поиска оптимальных мест воспользуемся базой данных крупнейшей социальной сети, основанной на локациях — Foursquare.\n",
    "\n",
    "Часть открытых данных есть, например, на сайте archive.org:\n",
    "\n",
    "https://archive.org/details/201309_foursquare_dataset_umn\n",
    "\n",
    "Скачаем любым удобным образом архив fsq.zip с этой страницы.\n",
    "\n",
    "Нас будет интересовать файл checkins.dat. Открыв его, увидим следующую структуру:"
   ]
  },
  {
   "cell_type": "markdown",
   "metadata": {},
   "source": [
    "Для удобной работы с этим документом преобразуем его к формату csv, удалив строки, не содержащие координат — они неинформативны для нас:\n",
    "http://pandas.pydata.org/pandas-docs/stable/cookbook.html"
   ]
  },
  {
   "cell_type": "code",
   "execution_count": 1,
   "metadata": {},
   "outputs": [
    {
     "name": "stderr",
     "output_type": "stream",
     "text": [
      "/home/sigor/anaconda2/lib/python2.7/site-packages/IPython/core/interactiveshell.py:2717: DtypeWarning: Columns (0) have mixed types. Specify dtype option on import or set low_memory=False.\n",
      "  interactivity=interactivity, compiler=compiler, result=result)\n"
     ]
    }
   ],
   "source": [
    "import pandas as pd\n",
    "\n",
    "data = pd.read_csv(\"checkins.dat\", header=0, skiprows=2, names=['id', 'user_id', 'venue_id','latitude', 'longitude', 'created_at'],  delimiter='|', skipinitialspace=True)"
   ]
  },
  {
   "cell_type": "code",
   "execution_count": 2,
   "metadata": {},
   "outputs": [
    {
     "data": {
      "text/html": [
       "<div>\n",
       "<style>\n",
       "    .dataframe thead tr:only-child th {\n",
       "        text-align: right;\n",
       "    }\n",
       "\n",
       "    .dataframe thead th {\n",
       "        text-align: left;\n",
       "    }\n",
       "\n",
       "    .dataframe tbody tr th {\n",
       "        vertical-align: top;\n",
       "    }\n",
       "</style>\n",
       "<table border=\"1\" class=\"dataframe\">\n",
       "  <thead>\n",
       "    <tr style=\"text-align: right;\">\n",
       "      <th></th>\n",
       "      <th>id</th>\n",
       "      <th>user_id</th>\n",
       "      <th>venue_id</th>\n",
       "      <th>latitude</th>\n",
       "      <th>longitude</th>\n",
       "      <th>created_at</th>\n",
       "    </tr>\n",
       "  </thead>\n",
       "  <tbody>\n",
       "    <tr>\n",
       "      <th>0</th>\n",
       "      <td>984222</td>\n",
       "      <td>15824.0</td>\n",
       "      <td>5222.0</td>\n",
       "      <td>38.895112</td>\n",
       "      <td>-77.036366</td>\n",
       "      <td>2012-04-21 17:43:47</td>\n",
       "    </tr>\n",
       "    <tr>\n",
       "      <th>1</th>\n",
       "      <td>984315</td>\n",
       "      <td>1764391.0</td>\n",
       "      <td>5222.0</td>\n",
       "      <td>NaN</td>\n",
       "      <td>NaN</td>\n",
       "      <td>2012-04-21 17:37:18</td>\n",
       "    </tr>\n",
       "    <tr>\n",
       "      <th>2</th>\n",
       "      <td>984234</td>\n",
       "      <td>44652.0</td>\n",
       "      <td>5222.0</td>\n",
       "      <td>33.800745</td>\n",
       "      <td>-84.410520</td>\n",
       "      <td>2012-04-21 17:43:43</td>\n",
       "    </tr>\n",
       "    <tr>\n",
       "      <th>3</th>\n",
       "      <td>984249</td>\n",
       "      <td>2146840.0</td>\n",
       "      <td>5222.0</td>\n",
       "      <td>NaN</td>\n",
       "      <td>NaN</td>\n",
       "      <td>2012-04-21 17:42:58</td>\n",
       "    </tr>\n",
       "    <tr>\n",
       "      <th>4</th>\n",
       "      <td>984268</td>\n",
       "      <td>2146843.0</td>\n",
       "      <td>5222.0</td>\n",
       "      <td>NaN</td>\n",
       "      <td>NaN</td>\n",
       "      <td>2012-04-21 17:42:38</td>\n",
       "    </tr>\n",
       "  </tbody>\n",
       "</table>\n",
       "</div>"
      ],
      "text/plain": [
       "       id    user_id  venue_id   latitude  longitude           created_at\n",
       "0  984222    15824.0    5222.0  38.895112 -77.036366  2012-04-21 17:43:47\n",
       "1  984315  1764391.0    5222.0        NaN        NaN  2012-04-21 17:37:18\n",
       "2  984234    44652.0    5222.0  33.800745 -84.410520  2012-04-21 17:43:43\n",
       "3  984249  2146840.0    5222.0        NaN        NaN  2012-04-21 17:42:58\n",
       "4  984268  2146843.0    5222.0        NaN        NaN  2012-04-21 17:42:38"
      ]
     },
     "execution_count": 2,
     "metadata": {},
     "output_type": "execute_result"
    }
   ],
   "source": [
    "data.head()"
   ]
  },
  {
   "cell_type": "code",
   "execution_count": 3,
   "metadata": {},
   "outputs": [
    {
     "name": "stdout",
     "output_type": "stream",
     "text": [
      "<class 'pandas.core.frame.DataFrame'>\n",
      "RangeIndex: 1021966 entries, 0 to 1021965\n",
      "Data columns (total 6 columns):\n",
      "id            1021966 non-null object\n",
      "user_id       1021965 non-null float64\n",
      "venue_id      1021965 non-null float64\n",
      "latitude      396634 non-null float64\n",
      "longitude     396634 non-null float64\n",
      "created_at    1021965 non-null object\n",
      "dtypes: float64(4), object(2)\n",
      "memory usage: 46.8+ MB\n"
     ]
    }
   ],
   "source": [
    "data.info()"
   ]
  },
  {
   "cell_type": "code",
   "execution_count": 4,
   "metadata": {
    "collapsed": true
   },
   "outputs": [],
   "source": [
    "d = data[:5]"
   ]
  },
  {
   "cell_type": "code",
   "execution_count": 17,
   "metadata": {},
   "outputs": [
    {
     "data": {
      "text/html": [
       "<div>\n",
       "<style>\n",
       "    .dataframe thead tr:only-child th {\n",
       "        text-align: right;\n",
       "    }\n",
       "\n",
       "    .dataframe thead th {\n",
       "        text-align: left;\n",
       "    }\n",
       "\n",
       "    .dataframe tbody tr th {\n",
       "        vertical-align: top;\n",
       "    }\n",
       "</style>\n",
       "<table border=\"1\" class=\"dataframe\">\n",
       "  <thead>\n",
       "    <tr style=\"text-align: right;\">\n",
       "      <th></th>\n",
       "      <th>id</th>\n",
       "      <th>user_id</th>\n",
       "      <th>venue_id</th>\n",
       "      <th>latitude</th>\n",
       "      <th>longitude</th>\n",
       "      <th>created_at</th>\n",
       "    </tr>\n",
       "  </thead>\n",
       "  <tbody>\n",
       "    <tr>\n",
       "      <th>0</th>\n",
       "      <td>984222</td>\n",
       "      <td>15824.0</td>\n",
       "      <td>5222.0</td>\n",
       "      <td>38.895112</td>\n",
       "      <td>-77.036366</td>\n",
       "      <td>2012-04-21 17:43:47</td>\n",
       "    </tr>\n",
       "    <tr>\n",
       "      <th>1</th>\n",
       "      <td>984315</td>\n",
       "      <td>1764391.0</td>\n",
       "      <td>5222.0</td>\n",
       "      <td>NaN</td>\n",
       "      <td>NaN</td>\n",
       "      <td>2012-04-21 17:37:18</td>\n",
       "    </tr>\n",
       "  </tbody>\n",
       "</table>\n",
       "</div>"
      ],
      "text/plain": [
       "       id    user_id  venue_id   latitude  longitude           created_at\n",
       "0  984222    15824.0    5222.0  38.895112 -77.036366  2012-04-21 17:43:47\n",
       "1  984315  1764391.0    5222.0        NaN        NaN  2012-04-21 17:37:18"
      ]
     },
     "execution_count": 17,
     "metadata": {},
     "output_type": "execute_result"
    }
   ],
   "source": [
    "d.loc[:1] # to row with index 1"
   ]
  },
  {
   "cell_type": "code",
   "execution_count": 20,
   "metadata": {},
   "outputs": [
    {
     "data": {
      "text/html": [
       "<div>\n",
       "<style>\n",
       "    .dataframe thead tr:only-child th {\n",
       "        text-align: right;\n",
       "    }\n",
       "\n",
       "    .dataframe thead th {\n",
       "        text-align: left;\n",
       "    }\n",
       "\n",
       "    .dataframe tbody tr th {\n",
       "        vertical-align: top;\n",
       "    }\n",
       "</style>\n",
       "<table border=\"1\" class=\"dataframe\">\n",
       "  <thead>\n",
       "    <tr style=\"text-align: right;\">\n",
       "      <th></th>\n",
       "      <th>id</th>\n",
       "      <th>user_id</th>\n",
       "      <th>venue_id</th>\n",
       "      <th>latitude</th>\n",
       "      <th>longitude</th>\n",
       "      <th>created_at</th>\n",
       "    </tr>\n",
       "  </thead>\n",
       "  <tbody>\n",
       "    <tr>\n",
       "      <th>0</th>\n",
       "      <td>984222</td>\n",
       "      <td>15824.0</td>\n",
       "      <td>5222.0</td>\n",
       "      <td>38.895112</td>\n",
       "      <td>-77.036366</td>\n",
       "      <td>2012-04-21 17:43:47</td>\n",
       "    </tr>\n",
       "    <tr>\n",
       "      <th>1</th>\n",
       "      <td>984315</td>\n",
       "      <td>1764391.0</td>\n",
       "      <td>5222.0</td>\n",
       "      <td>NaN</td>\n",
       "      <td>NaN</td>\n",
       "      <td>2012-04-21 17:37:18</td>\n",
       "    </tr>\n",
       "  </tbody>\n",
       "</table>\n",
       "</div>"
      ],
      "text/plain": [
       "       id    user_id  venue_id   latitude  longitude           created_at\n",
       "0  984222    15824.0    5222.0  38.895112 -77.036366  2012-04-21 17:43:47\n",
       "1  984315  1764391.0    5222.0        NaN        NaN  2012-04-21 17:37:18"
      ]
     },
     "execution_count": 20,
     "metadata": {},
     "output_type": "execute_result"
    }
   ],
   "source": [
    "d[:2] # tow first rows"
   ]
  },
  {
   "cell_type": "code",
   "execution_count": 21,
   "metadata": {},
   "outputs": [
    {
     "data": {
      "text/html": [
       "<div>\n",
       "<style>\n",
       "    .dataframe thead tr:only-child th {\n",
       "        text-align: right;\n",
       "    }\n",
       "\n",
       "    .dataframe thead th {\n",
       "        text-align: left;\n",
       "    }\n",
       "\n",
       "    .dataframe tbody tr th {\n",
       "        vertical-align: top;\n",
       "    }\n",
       "</style>\n",
       "<table border=\"1\" class=\"dataframe\">\n",
       "  <thead>\n",
       "    <tr style=\"text-align: right;\">\n",
       "      <th></th>\n",
       "      <th>id</th>\n",
       "      <th>user_id</th>\n",
       "      <th>venue_id</th>\n",
       "      <th>latitude</th>\n",
       "      <th>longitude</th>\n",
       "      <th>created_at</th>\n",
       "    </tr>\n",
       "  </thead>\n",
       "  <tbody>\n",
       "    <tr>\n",
       "      <th>0</th>\n",
       "      <td>984222</td>\n",
       "      <td>15824.0</td>\n",
       "      <td>5222.0</td>\n",
       "      <td>38.895112</td>\n",
       "      <td>-77.036366</td>\n",
       "      <td>2012-04-21 17:43:47</td>\n",
       "    </tr>\n",
       "    <tr>\n",
       "      <th>2</th>\n",
       "      <td>984234</td>\n",
       "      <td>44652.0</td>\n",
       "      <td>5222.0</td>\n",
       "      <td>33.800745</td>\n",
       "      <td>-84.410520</td>\n",
       "      <td>2012-04-21 17:43:43</td>\n",
       "    </tr>\n",
       "  </tbody>\n",
       "</table>\n",
       "</div>"
      ],
      "text/plain": [
       "       id  user_id  venue_id   latitude  longitude           created_at\n",
       "0  984222  15824.0    5222.0  38.895112 -77.036366  2012-04-21 17:43:47\n",
       "2  984234  44652.0    5222.0  33.800745 -84.410520  2012-04-21 17:43:43"
      ]
     },
     "execution_count": 21,
     "metadata": {},
     "output_type": "execute_result"
    }
   ],
   "source": [
    "d.dropna()"
   ]
  },
  {
   "cell_type": "markdown",
   "metadata": {},
   "source": [
    "Для удобной работы с этим документом преобразуем его к формату csv, удалив строки, не содержащие координат — они неинформативны для нас:"
   ]
  },
  {
   "cell_type": "code",
   "execution_count": 7,
   "metadata": {
    "collapsed": true
   },
   "outputs": [],
   "source": [
    "data = data.dropna()"
   ]
  },
  {
   "cell_type": "markdown",
   "metadata": {},
   "source": [
    "С помощью pandas построим DataFrame и убедимся, что все 396634 строки с координатами считаны успешно."
   ]
  },
  {
   "cell_type": "code",
   "execution_count": 8,
   "metadata": {},
   "outputs": [
    {
     "name": "stdout",
     "output_type": "stream",
     "text": [
      "<class 'pandas.core.frame.DataFrame'>\n",
      "Int64Index: 396634 entries, 0 to 1021963\n",
      "Data columns (total 6 columns):\n",
      "id            396634 non-null object\n",
      "user_id       396634 non-null float64\n",
      "venue_id      396634 non-null float64\n",
      "latitude      396634 non-null float64\n",
      "longitude     396634 non-null float64\n",
      "created_at    396634 non-null object\n",
      "dtypes: float64(4), object(2)\n",
      "memory usage: 21.2+ MB\n"
     ]
    }
   ],
   "source": [
    "data.info()"
   ]
  },
  {
   "cell_type": "markdown",
   "metadata": {},
   "source": [
    "Теперь необходимо кластеризовать данные координаты, чтобы выявить центры скоплений туристов. Поскольку баннеры имеют сравнительно небольшую площадь действия, нам нужен алгоритм, позволяющий ограничить размер кластера и не зависящий от количества кластеров."
   ]
  },
  {
   "cell_type": "markdown",
   "metadata": {},
   "source": [
    "Эта задача — хороший повод познакомиться с алгоритмом MeanShift, который мы обошли стороной в основной части лекций. Его описание при желании можно посмотреть в sklearn user guide, а чуть позже появится дополнительное видео с обзором этого и некоторых других алгоритмов кластеризации. Используйте MeanShift, указав bandwidth=0.1, что в переводе из градусов в метры колеблется примерно от 5 до 10 км в средних широтах."
   ]
  },
  {
   "cell_type": "markdown",
   "metadata": {},
   "source": [
    "Примечание: на 396634 строках кластеризация будет работать долго. Быть очень терпеливым не возбраняется — результат от этого только улучшится. Но для того, чтобы сдать задание, понадобится сабсет из первых 100 тысяч строк. Это компромисс между качеством и затраченным временем. Обучение алгоритма на всём датасете занимает около часа, а на 100 тыс. строк — примерно 2 минуты, однако этого достаточно для получения корректных результатов.\n",
    "\n"
   ]
  },
  {
   "cell_type": "code",
   "execution_count": 16,
   "metadata": {},
   "outputs": [
    {
     "name": "stdout",
     "output_type": "stream",
     "text": [
      "<class 'pandas.core.frame.DataFrame'>\n",
      "Int64Index: 100000 entries, 0 to 233797\n",
      "Data columns (total 6 columns):\n",
      "id            100000 non-null object\n",
      "user_id       100000 non-null float64\n",
      "venue_id      100000 non-null float64\n",
      "latitude      100000 non-null float64\n",
      "longitude     100000 non-null float64\n",
      "created_at    100000 non-null object\n",
      "dtypes: float64(4), object(2)\n",
      "memory usage: 5.3+ MB\n"
     ]
    }
   ],
   "source": [
    "data2 = data[:100000]\n",
    "data2.info()"
   ]
  },
  {
   "cell_type": "code",
   "execution_count": 11,
   "metadata": {
    "collapsed": true
   },
   "outputs": [],
   "source": [
    "import numpy as np\n",
    "from sklearn.cluster import MeanShift, estimate_bandwidth\n"
   ]
  },
  {
   "cell_type": "code",
   "execution_count": 26,
   "metadata": {},
   "outputs": [
    {
     "data": {
      "text/html": [
       "<div>\n",
       "<style>\n",
       "    .dataframe thead tr:only-child th {\n",
       "        text-align: right;\n",
       "    }\n",
       "\n",
       "    .dataframe thead th {\n",
       "        text-align: left;\n",
       "    }\n",
       "\n",
       "    .dataframe tbody tr th {\n",
       "        vertical-align: top;\n",
       "    }\n",
       "</style>\n",
       "<table border=\"1\" class=\"dataframe\">\n",
       "  <thead>\n",
       "    <tr style=\"text-align: right;\">\n",
       "      <th></th>\n",
       "      <th>latitude</th>\n",
       "      <th>longitude</th>\n",
       "    </tr>\n",
       "  </thead>\n",
       "  <tbody>\n",
       "    <tr>\n",
       "      <th>0</th>\n",
       "      <td>38.895112</td>\n",
       "      <td>-77.036366</td>\n",
       "    </tr>\n",
       "    <tr>\n",
       "      <th>1</th>\n",
       "      <td>NaN</td>\n",
       "      <td>NaN</td>\n",
       "    </tr>\n",
       "    <tr>\n",
       "      <th>2</th>\n",
       "      <td>33.800745</td>\n",
       "      <td>-84.410520</td>\n",
       "    </tr>\n",
       "    <tr>\n",
       "      <th>3</th>\n",
       "      <td>NaN</td>\n",
       "      <td>NaN</td>\n",
       "    </tr>\n",
       "    <tr>\n",
       "      <th>4</th>\n",
       "      <td>NaN</td>\n",
       "      <td>NaN</td>\n",
       "    </tr>\n",
       "  </tbody>\n",
       "</table>\n",
       "</div>"
      ],
      "text/plain": [
       "    latitude  longitude\n",
       "0  38.895112 -77.036366\n",
       "1        NaN        NaN\n",
       "2  33.800745 -84.410520\n",
       "3        NaN        NaN\n",
       "4        NaN        NaN"
      ]
     },
     "execution_count": 26,
     "metadata": {},
     "output_type": "execute_result"
    }
   ],
   "source": [
    "d[['latitude','longitude']]"
   ]
  },
  {
   "cell_type": "code",
   "execution_count": 27,
   "metadata": {},
   "outputs": [
    {
     "data": {
      "text/plain": [
       "MeanShift(bandwidth=0.1, bin_seeding=False, cluster_all=True, min_bin_freq=1,\n",
       "     n_jobs=1, seeds=None)"
      ]
     },
     "execution_count": 27,
     "metadata": {},
     "output_type": "execute_result"
    }
   ],
   "source": [
    "bandwidth=0.1\n",
    "ms = MeanShift(bandwidth)\n",
    "ms.fit(data2[['latitude','longitude']])"
   ]
  },
  {
   "cell_type": "code",
   "execution_count": 35,
   "metadata": {},
   "outputs": [
    {
     "name": "stdout",
     "output_type": "stream",
     "text": [
      " 3230 100000 [ 40.7177164  -73.99183542] 5\n"
     ]
    }
   ],
   "source": [
    "print len(ms.cluster_centers_), len(ms.labels_), ms.cluster_centers_[0], ms.labels_[0]"
   ]
  },
  {
   "cell_type": "code",
   "execution_count": 30,
   "metadata": {},
   "outputs": [
    {
     "data": {
      "text/plain": [
       "array([[  40.7177164 ,  -73.99183542],\n",
       "       [  33.44943805, -112.00213969],\n",
       "       [  33.44638027, -111.90188756],\n",
       "       ..., \n",
       "       [  46.7323875 , -117.0001651 ],\n",
       "       [  29.6899563 ,  -95.8996757 ],\n",
       "       [  31.3787916 ,  -95.3213317 ]])"
      ]
     },
     "execution_count": 30,
     "metadata": {},
     "output_type": "execute_result"
    }
   ],
   "source": [
    "ms.cluster_centers_"
   ]
  },
  {
   "cell_type": "code",
   "execution_count": 31,
   "metadata": {},
   "outputs": [
    {
     "data": {
      "text/plain": [
       "array([ 5,  7, 30, ..., 25, 19,  4])"
      ]
     },
     "execution_count": 31,
     "metadata": {},
     "output_type": "execute_result"
    }
   ],
   "source": [
    "ms.labels_"
   ]
  },
  {
   "cell_type": "code",
   "execution_count": 83,
   "metadata": {},
   "outputs": [
    {
     "name": "stdout",
     "output_type": "stream",
     "text": [
      "12506 4692 3994\n"
     ]
    }
   ],
   "source": [
    "print sum(ms.labels_ == 0),sum(ms.labels_ == 1),sum(ms.labels_ == 2)"
   ]
  },
  {
   "cell_type": "code",
   "execution_count": 84,
   "metadata": {
    "collapsed": true
   },
   "outputs": [],
   "source": [
    "l = pd.DataFrame(ms.labels_, columns=['cluster'])"
   ]
  },
  {
   "cell_type": "code",
   "execution_count": 85,
   "metadata": {},
   "outputs": [
    {
     "name": "stdout",
     "output_type": "stream",
     "text": [
      "<class 'pandas.core.frame.DataFrame'>\n",
      "RangeIndex: 100000 entries, 0 to 99999\n",
      "Data columns (total 1 columns):\n",
      "cluster    100000 non-null int64\n",
      "dtypes: int64(1)\n",
      "memory usage: 781.3 KB\n"
     ]
    }
   ],
   "source": [
    "l.info()"
   ]
  },
  {
   "cell_type": "code",
   "execution_count": 86,
   "metadata": {},
   "outputs": [
    {
     "data": {
      "text/html": [
       "<div>\n",
       "<style>\n",
       "    .dataframe thead tr:only-child th {\n",
       "        text-align: right;\n",
       "    }\n",
       "\n",
       "    .dataframe thead th {\n",
       "        text-align: left;\n",
       "    }\n",
       "\n",
       "    .dataframe tbody tr th {\n",
       "        vertical-align: top;\n",
       "    }\n",
       "</style>\n",
       "<table border=\"1\" class=\"dataframe\">\n",
       "  <thead>\n",
       "    <tr style=\"text-align: right;\">\n",
       "      <th></th>\n",
       "      <th>cluster</th>\n",
       "    </tr>\n",
       "  </thead>\n",
       "  <tbody>\n",
       "    <tr>\n",
       "      <th>71788</th>\n",
       "      <td>3229</td>\n",
       "    </tr>\n",
       "    <tr>\n",
       "      <th>35163</th>\n",
       "      <td>3228</td>\n",
       "    </tr>\n",
       "    <tr>\n",
       "      <th>22841</th>\n",
       "      <td>3227</td>\n",
       "    </tr>\n",
       "    <tr>\n",
       "      <th>33230</th>\n",
       "      <td>3226</td>\n",
       "    </tr>\n",
       "    <tr>\n",
       "      <th>87847</th>\n",
       "      <td>3225</td>\n",
       "    </tr>\n",
       "    <tr>\n",
       "      <th>33643</th>\n",
       "      <td>3224</td>\n",
       "    </tr>\n",
       "    <tr>\n",
       "      <th>80744</th>\n",
       "      <td>3223</td>\n",
       "    </tr>\n",
       "    <tr>\n",
       "      <th>6384</th>\n",
       "      <td>3222</td>\n",
       "    </tr>\n",
       "    <tr>\n",
       "      <th>59629</th>\n",
       "      <td>3221</td>\n",
       "    </tr>\n",
       "    <tr>\n",
       "      <th>41408</th>\n",
       "      <td>3220</td>\n",
       "    </tr>\n",
       "    <tr>\n",
       "      <th>49905</th>\n",
       "      <td>3219</td>\n",
       "    </tr>\n",
       "    <tr>\n",
       "      <th>18022</th>\n",
       "      <td>3218</td>\n",
       "    </tr>\n",
       "    <tr>\n",
       "      <th>6841</th>\n",
       "      <td>3217</td>\n",
       "    </tr>\n",
       "    <tr>\n",
       "      <th>44190</th>\n",
       "      <td>3216</td>\n",
       "    </tr>\n",
       "    <tr>\n",
       "      <th>67155</th>\n",
       "      <td>3215</td>\n",
       "    </tr>\n",
       "    <tr>\n",
       "      <th>10804</th>\n",
       "      <td>3214</td>\n",
       "    </tr>\n",
       "    <tr>\n",
       "      <th>33232</th>\n",
       "      <td>3213</td>\n",
       "    </tr>\n",
       "    <tr>\n",
       "      <th>4994</th>\n",
       "      <td>3212</td>\n",
       "    </tr>\n",
       "    <tr>\n",
       "      <th>81365</th>\n",
       "      <td>3211</td>\n",
       "    </tr>\n",
       "    <tr>\n",
       "      <th>60064</th>\n",
       "      <td>3210</td>\n",
       "    </tr>\n",
       "    <tr>\n",
       "      <th>11581</th>\n",
       "      <td>3209</td>\n",
       "    </tr>\n",
       "    <tr>\n",
       "      <th>26996</th>\n",
       "      <td>3208</td>\n",
       "    </tr>\n",
       "    <tr>\n",
       "      <th>89676</th>\n",
       "      <td>3207</td>\n",
       "    </tr>\n",
       "    <tr>\n",
       "      <th>49352</th>\n",
       "      <td>3206</td>\n",
       "    </tr>\n",
       "    <tr>\n",
       "      <th>19747</th>\n",
       "      <td>3205</td>\n",
       "    </tr>\n",
       "    <tr>\n",
       "      <th>81435</th>\n",
       "      <td>3204</td>\n",
       "    </tr>\n",
       "    <tr>\n",
       "      <th>36795</th>\n",
       "      <td>3203</td>\n",
       "    </tr>\n",
       "    <tr>\n",
       "      <th>31761</th>\n",
       "      <td>3202</td>\n",
       "    </tr>\n",
       "    <tr>\n",
       "      <th>19083</th>\n",
       "      <td>3201</td>\n",
       "    </tr>\n",
       "    <tr>\n",
       "      <th>40897</th>\n",
       "      <td>3200</td>\n",
       "    </tr>\n",
       "    <tr>\n",
       "      <th>...</th>\n",
       "      <td>...</td>\n",
       "    </tr>\n",
       "    <tr>\n",
       "      <th>36250</th>\n",
       "      <td>0</td>\n",
       "    </tr>\n",
       "    <tr>\n",
       "      <th>36249</th>\n",
       "      <td>0</td>\n",
       "    </tr>\n",
       "    <tr>\n",
       "      <th>84284</th>\n",
       "      <td>0</td>\n",
       "    </tr>\n",
       "    <tr>\n",
       "      <th>84285</th>\n",
       "      <td>0</td>\n",
       "    </tr>\n",
       "    <tr>\n",
       "      <th>84288</th>\n",
       "      <td>0</td>\n",
       "    </tr>\n",
       "    <tr>\n",
       "      <th>36202</th>\n",
       "      <td>0</td>\n",
       "    </tr>\n",
       "    <tr>\n",
       "      <th>84296</th>\n",
       "      <td>0</td>\n",
       "    </tr>\n",
       "    <tr>\n",
       "      <th>36201</th>\n",
       "      <td>0</td>\n",
       "    </tr>\n",
       "    <tr>\n",
       "      <th>36199</th>\n",
       "      <td>0</td>\n",
       "    </tr>\n",
       "    <tr>\n",
       "      <th>36198</th>\n",
       "      <td>0</td>\n",
       "    </tr>\n",
       "    <tr>\n",
       "      <th>36197</th>\n",
       "      <td>0</td>\n",
       "    </tr>\n",
       "    <tr>\n",
       "      <th>36196</th>\n",
       "      <td>0</td>\n",
       "    </tr>\n",
       "    <tr>\n",
       "      <th>36194</th>\n",
       "      <td>0</td>\n",
       "    </tr>\n",
       "    <tr>\n",
       "      <th>36188</th>\n",
       "      <td>0</td>\n",
       "    </tr>\n",
       "    <tr>\n",
       "      <th>84331</th>\n",
       "      <td>0</td>\n",
       "    </tr>\n",
       "    <tr>\n",
       "      <th>36186</th>\n",
       "      <td>0</td>\n",
       "    </tr>\n",
       "    <tr>\n",
       "      <th>84309</th>\n",
       "      <td>0</td>\n",
       "    </tr>\n",
       "    <tr>\n",
       "      <th>64274</th>\n",
       "      <td>0</td>\n",
       "    </tr>\n",
       "    <tr>\n",
       "      <th>84313</th>\n",
       "      <td>0</td>\n",
       "    </tr>\n",
       "    <tr>\n",
       "      <th>36146</th>\n",
       "      <td>0</td>\n",
       "    </tr>\n",
       "    <tr>\n",
       "      <th>36144</th>\n",
       "      <td>0</td>\n",
       "    </tr>\n",
       "    <tr>\n",
       "      <th>84319</th>\n",
       "      <td>0</td>\n",
       "    </tr>\n",
       "    <tr>\n",
       "      <th>36131</th>\n",
       "      <td>0</td>\n",
       "    </tr>\n",
       "    <tr>\n",
       "      <th>84323</th>\n",
       "      <td>0</td>\n",
       "    </tr>\n",
       "    <tr>\n",
       "      <th>36117</th>\n",
       "      <td>0</td>\n",
       "    </tr>\n",
       "    <tr>\n",
       "      <th>36116</th>\n",
       "      <td>0</td>\n",
       "    </tr>\n",
       "    <tr>\n",
       "      <th>36115</th>\n",
       "      <td>0</td>\n",
       "    </tr>\n",
       "    <tr>\n",
       "      <th>36107</th>\n",
       "      <td>0</td>\n",
       "    </tr>\n",
       "    <tr>\n",
       "      <th>84330</th>\n",
       "      <td>0</td>\n",
       "    </tr>\n",
       "    <tr>\n",
       "      <th>85161</th>\n",
       "      <td>0</td>\n",
       "    </tr>\n",
       "  </tbody>\n",
       "</table>\n",
       "<p>100000 rows × 1 columns</p>\n",
       "</div>"
      ],
      "text/plain": [
       "       cluster\n",
       "71788     3229\n",
       "35163     3228\n",
       "22841     3227\n",
       "33230     3226\n",
       "87847     3225\n",
       "33643     3224\n",
       "80744     3223\n",
       "6384      3222\n",
       "59629     3221\n",
       "41408     3220\n",
       "49905     3219\n",
       "18022     3218\n",
       "6841      3217\n",
       "44190     3216\n",
       "67155     3215\n",
       "10804     3214\n",
       "33232     3213\n",
       "4994      3212\n",
       "81365     3211\n",
       "60064     3210\n",
       "11581     3209\n",
       "26996     3208\n",
       "89676     3207\n",
       "49352     3206\n",
       "19747     3205\n",
       "81435     3204\n",
       "36795     3203\n",
       "31761     3202\n",
       "19083     3201\n",
       "40897     3200\n",
       "...        ...\n",
       "36250        0\n",
       "36249        0\n",
       "84284        0\n",
       "84285        0\n",
       "84288        0\n",
       "36202        0\n",
       "84296        0\n",
       "36201        0\n",
       "36199        0\n",
       "36198        0\n",
       "36197        0\n",
       "36196        0\n",
       "36194        0\n",
       "36188        0\n",
       "84331        0\n",
       "36186        0\n",
       "84309        0\n",
       "64274        0\n",
       "84313        0\n",
       "36146        0\n",
       "36144        0\n",
       "84319        0\n",
       "36131        0\n",
       "84323        0\n",
       "36117        0\n",
       "36116        0\n",
       "36115        0\n",
       "36107        0\n",
       "84330        0\n",
       "85161        0\n",
       "\n",
       "[100000 rows x 1 columns]"
      ]
     },
     "execution_count": 86,
     "metadata": {},
     "output_type": "execute_result"
    }
   ],
   "source": [
    "l.sort_values(by=('cluster'), ascending=False)"
   ]
  },
  {
   "cell_type": "code",
   "execution_count": 57,
   "metadata": {},
   "outputs": [
    {
     "data": {
      "text/html": [
       "<div>\n",
       "<style>\n",
       "    .dataframe thead tr:only-child th {\n",
       "        text-align: right;\n",
       "    }\n",
       "\n",
       "    .dataframe thead th {\n",
       "        text-align: left;\n",
       "    }\n",
       "\n",
       "    .dataframe tbody tr th {\n",
       "        vertical-align: top;\n",
       "    }\n",
       "</style>\n",
       "<table border=\"1\" class=\"dataframe\">\n",
       "  <thead>\n",
       "    <tr style=\"text-align: right;\">\n",
       "      <th></th>\n",
       "      <th>id</th>\n",
       "      <th>user_id</th>\n",
       "      <th>venue_id</th>\n",
       "      <th>latitude</th>\n",
       "      <th>longitude</th>\n",
       "      <th>created_at</th>\n",
       "    </tr>\n",
       "  </thead>\n",
       "  <tbody>\n",
       "    <tr>\n",
       "      <th>0</th>\n",
       "      <td>984222</td>\n",
       "      <td>15824.0</td>\n",
       "      <td>5222.0</td>\n",
       "      <td>38.895112</td>\n",
       "      <td>-77.036366</td>\n",
       "      <td>2012-04-21 17:43:47</td>\n",
       "    </tr>\n",
       "    <tr>\n",
       "      <th>2</th>\n",
       "      <td>984234</td>\n",
       "      <td>44652.0</td>\n",
       "      <td>5222.0</td>\n",
       "      <td>33.800745</td>\n",
       "      <td>-84.410520</td>\n",
       "      <td>2012-04-21 17:43:43</td>\n",
       "    </tr>\n",
       "    <tr>\n",
       "      <th>3</th>\n",
       "      <td>984249</td>\n",
       "      <td>2146840.0</td>\n",
       "      <td>5222.0</td>\n",
       "      <td>NaN</td>\n",
       "      <td>NaN</td>\n",
       "      <td>2012-04-21 17:42:58</td>\n",
       "    </tr>\n",
       "    <tr>\n",
       "      <th>4</th>\n",
       "      <td>984268</td>\n",
       "      <td>2146843.0</td>\n",
       "      <td>5222.0</td>\n",
       "      <td>NaN</td>\n",
       "      <td>NaN</td>\n",
       "      <td>2012-04-21 17:42:38</td>\n",
       "    </tr>\n",
       "    <tr>\n",
       "      <th>1</th>\n",
       "      <td>984315</td>\n",
       "      <td>1764391.0</td>\n",
       "      <td>5222.0</td>\n",
       "      <td>NaN</td>\n",
       "      <td>NaN</td>\n",
       "      <td>2012-04-21 17:37:18</td>\n",
       "    </tr>\n",
       "  </tbody>\n",
       "</table>\n",
       "</div>"
      ],
      "text/plain": [
       "       id    user_id  venue_id   latitude  longitude           created_at\n",
       "0  984222    15824.0    5222.0  38.895112 -77.036366  2012-04-21 17:43:47\n",
       "2  984234    44652.0    5222.0  33.800745 -84.410520  2012-04-21 17:43:43\n",
       "3  984249  2146840.0    5222.0        NaN        NaN  2012-04-21 17:42:58\n",
       "4  984268  2146843.0    5222.0        NaN        NaN  2012-04-21 17:42:38\n",
       "1  984315  1764391.0    5222.0        NaN        NaN  2012-04-21 17:37:18"
      ]
     },
     "execution_count": 57,
     "metadata": {},
     "output_type": "execute_result"
    }
   ],
   "source": [
    "d.sort_values(by=('id'))"
   ]
  },
  {
   "cell_type": "code",
   "execution_count": 74,
   "metadata": {
    "collapsed": true
   },
   "outputs": [],
   "source": [
    "dd = d.groupby('venue_id').size().reset_index(name='counts')"
   ]
  },
  {
   "cell_type": "code",
   "execution_count": 75,
   "metadata": {},
   "outputs": [
    {
     "data": {
      "text/html": [
       "<div>\n",
       "<style>\n",
       "    .dataframe thead tr:only-child th {\n",
       "        text-align: right;\n",
       "    }\n",
       "\n",
       "    .dataframe thead th {\n",
       "        text-align: left;\n",
       "    }\n",
       "\n",
       "    .dataframe tbody tr th {\n",
       "        vertical-align: top;\n",
       "    }\n",
       "</style>\n",
       "<table border=\"1\" class=\"dataframe\">\n",
       "  <thead>\n",
       "    <tr style=\"text-align: right;\">\n",
       "      <th></th>\n",
       "      <th>venue_id</th>\n",
       "      <th>counts</th>\n",
       "    </tr>\n",
       "  </thead>\n",
       "  <tbody>\n",
       "    <tr>\n",
       "      <th>0</th>\n",
       "      <td>5222.0</td>\n",
       "      <td>5</td>\n",
       "    </tr>\n",
       "  </tbody>\n",
       "</table>\n",
       "</div>"
      ],
      "text/plain": [
       "   venue_id  counts\n",
       "0    5222.0       5"
      ]
     },
     "execution_count": 75,
     "metadata": {},
     "output_type": "execute_result"
    }
   ],
   "source": [
    "dd"
   ]
  },
  {
   "cell_type": "code",
   "execution_count": 87,
   "metadata": {
    "collapsed": true
   },
   "outputs": [],
   "source": [
    "res = l.groupby(['cluster']).size().reset_index(name='counts')"
   ]
  },
  {
   "cell_type": "code",
   "execution_count": 88,
   "metadata": {},
   "outputs": [
    {
     "data": {
      "text/plain": [
       "100000L"
      ]
     },
     "execution_count": 88,
     "metadata": {},
     "output_type": "execute_result"
    }
   ],
   "source": [
    "res.counts.sum()"
   ]
  },
  {
   "cell_type": "code",
   "execution_count": 89,
   "metadata": {},
   "outputs": [
    {
     "data": {
      "text/html": [
       "<div>\n",
       "<style>\n",
       "    .dataframe thead tr:only-child th {\n",
       "        text-align: right;\n",
       "    }\n",
       "\n",
       "    .dataframe thead th {\n",
       "        text-align: left;\n",
       "    }\n",
       "\n",
       "    .dataframe tbody tr th {\n",
       "        vertical-align: top;\n",
       "    }\n",
       "</style>\n",
       "<table border=\"1\" class=\"dataframe\">\n",
       "  <thead>\n",
       "    <tr style=\"text-align: right;\">\n",
       "      <th></th>\n",
       "      <th>cluster</th>\n",
       "      <th>counts</th>\n",
       "    </tr>\n",
       "  </thead>\n",
       "  <tbody>\n",
       "    <tr>\n",
       "      <th>0</th>\n",
       "      <td>0</td>\n",
       "      <td>12506</td>\n",
       "    </tr>\n",
       "    <tr>\n",
       "      <th>1</th>\n",
       "      <td>1</td>\n",
       "      <td>4692</td>\n",
       "    </tr>\n",
       "    <tr>\n",
       "      <th>2</th>\n",
       "      <td>2</td>\n",
       "      <td>3994</td>\n",
       "    </tr>\n",
       "    <tr>\n",
       "      <th>3</th>\n",
       "      <td>3</td>\n",
       "      <td>3363</td>\n",
       "    </tr>\n",
       "    <tr>\n",
       "      <th>4</th>\n",
       "      <td>4</td>\n",
       "      <td>3526</td>\n",
       "    </tr>\n",
       "  </tbody>\n",
       "</table>\n",
       "</div>"
      ],
      "text/plain": [
       "   cluster  counts\n",
       "0        0   12506\n",
       "1        1    4692\n",
       "2        2    3994\n",
       "3        3    3363\n",
       "4        4    3526"
      ]
     },
     "execution_count": 89,
     "metadata": {},
     "output_type": "execute_result"
    }
   ],
   "source": [
    "res.head()"
   ]
  },
  {
   "cell_type": "markdown",
   "metadata": {},
   "source": [
    "Некоторые из получившихся кластеров содержат слишком мало точек — такие кластеры не интересны рекламодателям. Поэтому надо определить, какие из кластеров содержат, скажем, больше 15 элементов. Центры этих кластеров и являются оптимальными для размещения."
   ]
  },
  {
   "cell_type": "code",
   "execution_count": 99,
   "metadata": {},
   "outputs": [
    {
     "data": {
      "text/html": [
       "<div>\n",
       "<style>\n",
       "    .dataframe thead tr:only-child th {\n",
       "        text-align: right;\n",
       "    }\n",
       "\n",
       "    .dataframe thead th {\n",
       "        text-align: left;\n",
       "    }\n",
       "\n",
       "    .dataframe tbody tr th {\n",
       "        vertical-align: top;\n",
       "    }\n",
       "</style>\n",
       "<table border=\"1\" class=\"dataframe\">\n",
       "  <thead>\n",
       "    <tr style=\"text-align: right;\">\n",
       "      <th></th>\n",
       "      <th>cluster</th>\n",
       "      <th>counts</th>\n",
       "    </tr>\n",
       "  </thead>\n",
       "  <tbody>\n",
       "    <tr>\n",
       "      <th>0</th>\n",
       "      <td>0</td>\n",
       "      <td>12506</td>\n",
       "    </tr>\n",
       "    <tr>\n",
       "      <th>1</th>\n",
       "      <td>1</td>\n",
       "      <td>4692</td>\n",
       "    </tr>\n",
       "    <tr>\n",
       "      <th>2</th>\n",
       "      <td>2</td>\n",
       "      <td>3994</td>\n",
       "    </tr>\n",
       "    <tr>\n",
       "      <th>3</th>\n",
       "      <td>3</td>\n",
       "      <td>3363</td>\n",
       "    </tr>\n",
       "    <tr>\n",
       "      <th>4</th>\n",
       "      <td>4</td>\n",
       "      <td>3526</td>\n",
       "    </tr>\n",
       "    <tr>\n",
       "      <th>5</th>\n",
       "      <td>5</td>\n",
       "      <td>2409</td>\n",
       "    </tr>\n",
       "    <tr>\n",
       "      <th>6</th>\n",
       "      <td>6</td>\n",
       "      <td>2297</td>\n",
       "    </tr>\n",
       "    <tr>\n",
       "      <th>7</th>\n",
       "      <td>7</td>\n",
       "      <td>1601</td>\n",
       "    </tr>\n",
       "    <tr>\n",
       "      <th>8</th>\n",
       "      <td>8</td>\n",
       "      <td>1526</td>\n",
       "    </tr>\n",
       "    <tr>\n",
       "      <th>9</th>\n",
       "      <td>9</td>\n",
       "      <td>1378</td>\n",
       "    </tr>\n",
       "    <tr>\n",
       "      <th>10</th>\n",
       "      <td>10</td>\n",
       "      <td>1298</td>\n",
       "    </tr>\n",
       "    <tr>\n",
       "      <th>11</th>\n",
       "      <td>11</td>\n",
       "      <td>1081</td>\n",
       "    </tr>\n",
       "    <tr>\n",
       "      <th>12</th>\n",
       "      <td>12</td>\n",
       "      <td>1006</td>\n",
       "    </tr>\n",
       "    <tr>\n",
       "      <th>13</th>\n",
       "      <td>13</td>\n",
       "      <td>1007</td>\n",
       "    </tr>\n",
       "    <tr>\n",
       "      <th>14</th>\n",
       "      <td>14</td>\n",
       "      <td>714</td>\n",
       "    </tr>\n",
       "    <tr>\n",
       "      <th>15</th>\n",
       "      <td>15</td>\n",
       "      <td>868</td>\n",
       "    </tr>\n",
       "    <tr>\n",
       "      <th>16</th>\n",
       "      <td>16</td>\n",
       "      <td>870</td>\n",
       "    </tr>\n",
       "    <tr>\n",
       "      <th>17</th>\n",
       "      <td>17</td>\n",
       "      <td>645</td>\n",
       "    </tr>\n",
       "    <tr>\n",
       "      <th>18</th>\n",
       "      <td>18</td>\n",
       "      <td>808</td>\n",
       "    </tr>\n",
       "    <tr>\n",
       "      <th>19</th>\n",
       "      <td>19</td>\n",
       "      <td>807</td>\n",
       "    </tr>\n",
       "    <tr>\n",
       "      <th>20</th>\n",
       "      <td>20</td>\n",
       "      <td>612</td>\n",
       "    </tr>\n",
       "    <tr>\n",
       "      <th>21</th>\n",
       "      <td>21</td>\n",
       "      <td>722</td>\n",
       "    </tr>\n",
       "    <tr>\n",
       "      <th>22</th>\n",
       "      <td>22</td>\n",
       "      <td>754</td>\n",
       "    </tr>\n",
       "    <tr>\n",
       "      <th>23</th>\n",
       "      <td>23</td>\n",
       "      <td>747</td>\n",
       "    </tr>\n",
       "    <tr>\n",
       "      <th>24</th>\n",
       "      <td>24</td>\n",
       "      <td>539</td>\n",
       "    </tr>\n",
       "    <tr>\n",
       "      <th>25</th>\n",
       "      <td>25</td>\n",
       "      <td>656</td>\n",
       "    </tr>\n",
       "    <tr>\n",
       "      <th>26</th>\n",
       "      <td>26</td>\n",
       "      <td>580</td>\n",
       "    </tr>\n",
       "    <tr>\n",
       "      <th>27</th>\n",
       "      <td>27</td>\n",
       "      <td>577</td>\n",
       "    </tr>\n",
       "    <tr>\n",
       "      <th>28</th>\n",
       "      <td>28</td>\n",
       "      <td>679</td>\n",
       "    </tr>\n",
       "    <tr>\n",
       "      <th>29</th>\n",
       "      <td>29</td>\n",
       "      <td>564</td>\n",
       "    </tr>\n",
       "    <tr>\n",
       "      <th>...</th>\n",
       "      <td>...</td>\n",
       "      <td>...</td>\n",
       "    </tr>\n",
       "    <tr>\n",
       "      <th>571</th>\n",
       "      <td>571</td>\n",
       "      <td>17</td>\n",
       "    </tr>\n",
       "    <tr>\n",
       "      <th>573</th>\n",
       "      <td>573</td>\n",
       "      <td>16</td>\n",
       "    </tr>\n",
       "    <tr>\n",
       "      <th>574</th>\n",
       "      <td>574</td>\n",
       "      <td>16</td>\n",
       "    </tr>\n",
       "    <tr>\n",
       "      <th>575</th>\n",
       "      <td>575</td>\n",
       "      <td>16</td>\n",
       "    </tr>\n",
       "    <tr>\n",
       "      <th>576</th>\n",
       "      <td>576</td>\n",
       "      <td>16</td>\n",
       "    </tr>\n",
       "    <tr>\n",
       "      <th>577</th>\n",
       "      <td>577</td>\n",
       "      <td>16</td>\n",
       "    </tr>\n",
       "    <tr>\n",
       "      <th>578</th>\n",
       "      <td>578</td>\n",
       "      <td>16</td>\n",
       "    </tr>\n",
       "    <tr>\n",
       "      <th>579</th>\n",
       "      <td>579</td>\n",
       "      <td>16</td>\n",
       "    </tr>\n",
       "    <tr>\n",
       "      <th>580</th>\n",
       "      <td>580</td>\n",
       "      <td>16</td>\n",
       "    </tr>\n",
       "    <tr>\n",
       "      <th>581</th>\n",
       "      <td>581</td>\n",
       "      <td>16</td>\n",
       "    </tr>\n",
       "    <tr>\n",
       "      <th>582</th>\n",
       "      <td>582</td>\n",
       "      <td>26</td>\n",
       "    </tr>\n",
       "    <tr>\n",
       "      <th>583</th>\n",
       "      <td>583</td>\n",
       "      <td>19</td>\n",
       "    </tr>\n",
       "    <tr>\n",
       "      <th>584</th>\n",
       "      <td>584</td>\n",
       "      <td>16</td>\n",
       "    </tr>\n",
       "    <tr>\n",
       "      <th>586</th>\n",
       "      <td>586</td>\n",
       "      <td>16</td>\n",
       "    </tr>\n",
       "    <tr>\n",
       "      <th>588</th>\n",
       "      <td>588</td>\n",
       "      <td>16</td>\n",
       "    </tr>\n",
       "    <tr>\n",
       "      <th>589</th>\n",
       "      <td>589</td>\n",
       "      <td>16</td>\n",
       "    </tr>\n",
       "    <tr>\n",
       "      <th>590</th>\n",
       "      <td>590</td>\n",
       "      <td>16</td>\n",
       "    </tr>\n",
       "    <tr>\n",
       "      <th>592</th>\n",
       "      <td>592</td>\n",
       "      <td>19</td>\n",
       "    </tr>\n",
       "    <tr>\n",
       "      <th>593</th>\n",
       "      <td>593</td>\n",
       "      <td>16</td>\n",
       "    </tr>\n",
       "    <tr>\n",
       "      <th>594</th>\n",
       "      <td>594</td>\n",
       "      <td>22</td>\n",
       "    </tr>\n",
       "    <tr>\n",
       "      <th>595</th>\n",
       "      <td>595</td>\n",
       "      <td>16</td>\n",
       "    </tr>\n",
       "    <tr>\n",
       "      <th>608</th>\n",
       "      <td>608</td>\n",
       "      <td>17</td>\n",
       "    </tr>\n",
       "    <tr>\n",
       "      <th>640</th>\n",
       "      <td>640</td>\n",
       "      <td>18</td>\n",
       "    </tr>\n",
       "    <tr>\n",
       "      <th>663</th>\n",
       "      <td>663</td>\n",
       "      <td>16</td>\n",
       "    </tr>\n",
       "    <tr>\n",
       "      <th>672</th>\n",
       "      <td>672</td>\n",
       "      <td>16</td>\n",
       "    </tr>\n",
       "    <tr>\n",
       "      <th>703</th>\n",
       "      <td>703</td>\n",
       "      <td>19</td>\n",
       "    </tr>\n",
       "    <tr>\n",
       "      <th>723</th>\n",
       "      <td>723</td>\n",
       "      <td>26</td>\n",
       "    </tr>\n",
       "    <tr>\n",
       "      <th>898</th>\n",
       "      <td>898</td>\n",
       "      <td>23</td>\n",
       "    </tr>\n",
       "    <tr>\n",
       "      <th>1268</th>\n",
       "      <td>1268</td>\n",
       "      <td>19</td>\n",
       "    </tr>\n",
       "    <tr>\n",
       "      <th>1278</th>\n",
       "      <td>1278</td>\n",
       "      <td>21</td>\n",
       "    </tr>\n",
       "  </tbody>\n",
       "</table>\n",
       "<p>593 rows × 2 columns</p>\n",
       "</div>"
      ],
      "text/plain": [
       "      cluster  counts\n",
       "0           0   12506\n",
       "1           1    4692\n",
       "2           2    3994\n",
       "3           3    3363\n",
       "4           4    3526\n",
       "5           5    2409\n",
       "6           6    2297\n",
       "7           7    1601\n",
       "8           8    1526\n",
       "9           9    1378\n",
       "10         10    1298\n",
       "11         11    1081\n",
       "12         12    1006\n",
       "13         13    1007\n",
       "14         14     714\n",
       "15         15     868\n",
       "16         16     870\n",
       "17         17     645\n",
       "18         18     808\n",
       "19         19     807\n",
       "20         20     612\n",
       "21         21     722\n",
       "22         22     754\n",
       "23         23     747\n",
       "24         24     539\n",
       "25         25     656\n",
       "26         26     580\n",
       "27         27     577\n",
       "28         28     679\n",
       "29         29     564\n",
       "...       ...     ...\n",
       "571       571      17\n",
       "573       573      16\n",
       "574       574      16\n",
       "575       575      16\n",
       "576       576      16\n",
       "577       577      16\n",
       "578       578      16\n",
       "579       579      16\n",
       "580       580      16\n",
       "581       581      16\n",
       "582       582      26\n",
       "583       583      19\n",
       "584       584      16\n",
       "586       586      16\n",
       "588       588      16\n",
       "589       589      16\n",
       "590       590      16\n",
       "592       592      19\n",
       "593       593      16\n",
       "594       594      22\n",
       "595       595      16\n",
       "608       608      17\n",
       "640       640      18\n",
       "663       663      16\n",
       "672       672      16\n",
       "703       703      19\n",
       "723       723      26\n",
       "898       898      23\n",
       "1268     1268      19\n",
       "1278     1278      21\n",
       "\n",
       "[593 rows x 2 columns]"
      ]
     },
     "execution_count": 99,
     "metadata": {},
     "output_type": "execute_result"
    }
   ],
   "source": [
    "res[res.counts > 15]"
   ]
  },
  {
   "cell_type": "code",
   "execution_count": 114,
   "metadata": {},
   "outputs": [
    {
     "data": {
      "text/plain": [
       "1268"
      ]
     },
     "execution_count": 114,
     "metadata": {},
     "output_type": "execute_result"
    }
   ],
   "source": [
    "optimal_cluster_idx = res[res.counts > 15].index\n",
    "optimal_cluster_idx[-2]"
   ]
  },
  {
   "cell_type": "code",
   "execution_count": 107,
   "metadata": {
    "collapsed": true
   },
   "outputs": [],
   "source": [
    "optimal_clusters = ms.cluster_centers_[optimal_cluster_idx]"
   ]
  },
  {
   "cell_type": "code",
   "execution_count": 110,
   "metadata": {},
   "outputs": [
    {
     "data": {
      "text/plain": [
       "(593, 2)"
      ]
     },
     "execution_count": 110,
     "metadata": {},
     "output_type": "execute_result"
    }
   ],
   "source": [
    "optimal_clusters.shape"
   ]
  },
  {
   "cell_type": "code",
   "execution_count": 111,
   "metadata": {},
   "outputs": [
    {
     "data": {
      "text/plain": [
       "array([[  40.7177164 ,  -73.99183542],\n",
       "       [  33.44943805, -112.00213969],\n",
       "       [  33.44638027, -111.90188756],\n",
       "       ..., \n",
       "       [  41.61853175,  -88.44556818],\n",
       "       [  38.65877915,  -76.8856871 ],\n",
       "       [  39.2494686 ,  -77.1821271 ]])"
      ]
     },
     "execution_count": 111,
     "metadata": {},
     "output_type": "execute_result"
    }
   ],
   "source": [
    "optimal_clusters"
   ]
  },
  {
   "cell_type": "markdown",
   "metadata": {
    "collapsed": true
   },
   "source": [
    "При желании увидеть получившиеся результаты на карте можно передать центры получившихся кластеров в один из инструментов визуализации. Например, сайт mapcustomizer.com имеет функцию Bulk Entry, куда можно вставить центры полученных кластеров в формате:"
   ]
  },
  {
   "cell_type": "code",
   "execution_count": 116,
   "metadata": {
    "scrolled": true
   },
   "outputs": [
    {
     "name": "stdout",
     "output_type": "stream",
     "text": [
      "40.7177163973 , -73.9918354199\n",
      "33.4494380502 , -112.00213969\n",
      "33.4463802704 , -111.901887562\n",
      "41.8782437797 , -87.6298433623\n",
      "37.6886815741 , -122.409330374\n",
      "38.8861652156 , -77.0487833307\n",
      "33.3573445623 , -111.822654108\n",
      "33.7666362322 , -84.3932891848\n",
      "42.3632186398 , -71.0736876086\n",
      "47.6062447174 , -122.332043826\n",
      "36.117229143 , -115.171073423\n",
      "34.0603975546 , -118.248709027\n",
      "44.9779478203 , -93.2673008853\n",
      "30.267183617 , -97.7431192813\n",
      "40.76687624 , -73.8333534905\n",
      "39.7358301526 , -104.986580428\n",
      "39.951680373 , -75.1627359239\n",
      "34.0354869531 , -118.438997719\n",
      "32.9808933822 , -117.078117978\n",
      "32.8030205353 , -96.7698974349\n",
      "37.3478711439 , -121.947287224\n",
      "28.5435015466 , -81.3764286229\n",
      "32.7113444339 , -117.153638748\n",
      "32.2217131518 , -110.926535153\n",
      "34.1274022191 , -118.351883725\n",
      "29.7626977547 , -95.3823137047\n",
      "43.0405328168 , -87.914332566\n",
      "33.8173064339 , -117.891249171\n",
      "37.390292432 , -122.087286436\n",
      "25.78581242 , -80.2179380368\n",
      "45.5234832146 , -122.676280421\n",
      "33.5697346035 , -112.314015838\n",
      "33.6743026598 , -117.858789268\n",
      "-6.21276665639 , 106.844659812\n",
      "27.9494460796 , -82.4650736\n",
      "34.160210385 , -118.223616573\n",
      "39.1000948756 , -94.5824387017\n",
      "35.227263381 , -80.8431816171\n",
      "43.6529502219 , -79.3826088698\n",
      "37.79314222 , -122.266383272\n",
      "39.9968324051 , -82.9999549332\n",
      "39.7684502806 , -86.1582494342\n",
      "33.8729860116 , -118.362091147\n",
      "47.645224584 , -122.168674816\n",
      "39.2862503078 , -76.614669291\n",
      "34.0489281 , -111.0937311\n",
      "40.4391746445 , -79.9956503328\n",
      "34.1314601492 , -118.118011806\n",
      "40.7666683193 , -74.1924955489\n",
      "37.5437249374 , -122.302308562\n",
      "33.6508959929 , -117.752073973\n",
      "33.8098779553 , -118.148923807\n",
      "40.8701482608 , -73.8593886399\n",
      "29.4249166324 , -98.4936241079\n",
      "41.4874845304 , -81.7074692621\n",
      "26.1208626586 , -80.1589066802\n",
      "35.7713142228 , -78.6367140966\n",
      "38.645525338 , -90.22935879\n",
      "51.5029912609 , -0.12553728871\n",
      "44.9620340678 , -93.1191077966\n",
      "38.5815330878 , -121.495651457\n",
      "40.708071024 , -73.5844003195\n",
      "38.9852215236 , -77.4059723361\n",
      "38.868320419 , -77.2433993562\n",
      "34.0912975346 , -117.980389453\n",
      "39.1285678085 , -84.5030926995\n",
      "40.7595999548 , -111.896077779\n",
      "37.542944669 , -77.4685887934\n",
      "36.164203998 , -86.7814398082\n",
      "35.2013516 , -111.639249\n",
      "49.2401719783 , -123.111860223\n",
      "40.0149856 , -105.2705456\n",
      "39.0056565492 , -77.1265309818\n",
      "32.8775840594 , -97.014731469\n",
      "40.9847183989 , -73.7742390972\n",
      "34.0618855737 , -117.671784578\n",
      "41.2535275 , -95.9993827782\n",
      "40.4888751896 , -74.4226114902\n",
      "29.966228186 , -90.0772990205\n",
      "41.8543565006 , -87.8568999485\n",
      "42.0652007133 , -87.80762188\n",
      "37.6930336787 , -122.097844778\n",
      "44.8847971196 , -93.3270322914\n",
      "30.3326448916 , -81.6543053277\n",
      "40.7258096394 , -74.2991960394\n",
      "43.0728378947 , -89.3999034224\n",
      "40.6242288329 , -74.225849339\n",
      "33.8883253428 , -118.048928172\n",
      "42.8999361257 , -78.8734140681\n",
      "38.9858973366 , -94.6722020437\n",
      "34.1981820709 , -118.549276808\n",
      "33.0118233943 , -96.7015866191\n",
      "26.0100982493 , -80.1999905857\n",
      "34.0560122326 , -84.3168902726\n",
      "40.6099185881 , -74.1194952089\n",
      "43.1622016389 , -77.6110725847\n",
      "33.9680469542 , -84.5680670756\n",
      "43.0488843868 , -76.1451762636\n",
      "42.3315517195 , -83.0445352406\n",
      "34.0750788256 , -117.816471886\n",
      "36.0837927705 , -86.6505529158\n",
      "42.9581002234 , -85.6680542371\n",
      "28.6404027 , -81.3438759163\n",
      "-0.3012262 , 36.5229641\n",
      "35.1495343 , -90.0489801\n",
      "-23.5495183462 , -46.6382188812\n",
      "42.4811898922 , -83.1612989224\n",
      "47.4525996504 , -122.259313221\n",
      "19.4303244254 , -99.1410718342\n",
      "38.2534614149 , -85.759421314\n",
      "37.5911196289 , -122.020734836\n",
      "39.0943562259 , -77.17691475\n",
      "37.9350394777 , -122.524048235\n",
      "39.9238515673 , -74.9900514082\n",
      "35.7891041673 , -78.80416964\n",
      "42.0694061818 , -88.0048002273\n",
      "41.7875515505 , -88.1307637383\n",
      "42.2710333311 , -83.7266235292\n",
      "41.050868183 , -73.5485196142\n",
      "33.983935874 , -118.007404973\n",
      "40.065524633 , -74.3943064155\n",
      "36.033669 , -115.002364\n",
      "36.778261 , -119.4179324\n",
      "32.726070496 , -97.321011282\n",
      "28.399507407 , -81.537411049\n",
      "42.2836792434 , -85.5861645525\n",
      "44.8739448449 , -93.4811178969\n",
      "39.1019614265 , -76.6416129704\n",
      "33.180450702 , -117.367691767\n",
      "27.7791552505 , -82.6475371186\n",
      "45.5063052835 , -73.5596537825\n",
      "40.055476099 , -75.3335181\n",
      "42.5169131515 , -83.3117352536\n",
      "39.9765158427 , -86.0514814583\n",
      "35.4685426179 , -97.51679604\n",
      "41.5971014106 , -93.7264591479\n",
      "37.9159078 , -122.060760173\n",
      "33.2362374707 , -111.624031498\n",
      "32.7843057374 , -79.9205039857\n",
      "43.0021806489 , -88.0143771767\n",
      "40.8135667489 , -74.4314960533\n",
      "42.3149251247 , -83.4180204787\n",
      "39.6187954391 , -104.993854311\n",
      "34.3931798744 , -118.542477257\n",
      "26.3525711663 , -80.0852787174\n",
      "33.9997733424 , -84.1520556506\n",
      "38.9516029365 , -92.3343964929\n",
      "32.783560494 , -97.123181975\n",
      "32.8816214476 , -97.1829085964\n",
      "42.0090408855 , -88.0961723277\n",
      "30.4416425602 , -84.2858799458\n",
      "35.9940329 , -78.898619\n",
      "38.5273511228 , -90.3810519203\n",
      "40.724220581 , -73.4000373848\n",
      "-6.91310210127 , 107.607742759\n",
      "39.8549331127 , -105.038304195\n",
      "35.9130061949 , -79.0570751962\n",
      "1.35083660256 , 103.820220413\n",
      "26.200584641 , -80.2507161256\n",
      "39.0824626949 , -77.5254436308\n",
      "39.5298359115 , -119.811452158\n",
      "33.9243152104 , -84.2790094675\n",
      "41.1350897247 , -73.3464990922\n",
      "39.8563609447 , -75.1119670658\n",
      "35.0844909 , -106.6511367\n",
      "45.0486774908 , -93.4039535132\n",
      "25.7053497211 , -80.2834287382\n",
      "32.7937055632 , -116.987878503\n",
      "40.2880650653 , -74.0249913093\n",
      "40.291521692 , -74.682392796\n",
      "43.5870665973 , -116.195863984\n",
      "21.3055708649 , -157.856817284\n",
      "40.5858157527 , -105.085143741\n",
      "31.7587198 , -106.4869314\n",
      "40.5329966644 , -74.2959513795\n",
      "37.6846486592 , -121.903596396\n",
      "33.136918969 , -96.8482683775\n",
      "42.7328466186 , -84.5336769443\n",
      "42.6269734214 , -83.1985474843\n",
      "42.3273715391 , -71.3628507478\n",
      "33.0182368826 , -117.282993978\n",
      "38.8338816 , -104.8213634\n",
      "40.1456119397 , -75.2832133721\n",
      "40.8074544588 , -96.68141625\n",
      "37.09024 , -95.712891\n",
      "41.297705606 , -72.9541456299\n",
      "36.8115821224 , -76.2845886343\n",
      "33.7888322478 , -84.2675449896\n",
      "33.0581063 , -112.0476423\n",
      "48.857765547 , 2.34579836515\n",
      "41.6003218985 , -93.6076510848\n",
      "39.2115192766 , -76.850373775\n",
      "40.1484097422 , -74.0487353031\n",
      "39.7294319 , -104.8319195\n",
      "40.0122326016 , -74.9318781938\n",
      "36.8529263 , -75.977985\n",
      "33.9556792286 , -83.3815783429\n",
      "41.0942622016 , -81.5066809651\n",
      "42.454661081 , -83.4235985825\n",
      "33.1622098774 , -96.6495485806\n",
      "41.1307563968 , -73.9996172435\n",
      "39.3476103613 , -76.7722004871\n",
      "35.9634935639 , -83.9171275098\n",
      "41.8224861377 , -71.408106023\n",
      "33.1306953164 , -117.124322526\n",
      "44.8869746148 , -92.970317618\n",
      "41.6811683583 , -86.2389442233\n",
      "47.34608157 , -122.2690195\n",
      "13.7310111712 , 100.513362047\n",
      "-6.31469811525 , 106.813151756\n",
      "40.4102402627 , -74.2471195661\n",
      "40.3542309508 , -74.1156747458\n",
      "35.6800056224 , 139.706056291\n",
      "44.7820870241 , -93.1836724966\n",
      "34.8525673333 , -82.3920335088\n",
      "41.7950035491 , -72.6909231614\n",
      "44.0517621053 , -123.083347037\n",
      "36.0331164 , -86.7827772\n",
      "34.4219613643 , -119.693467614\n",
      "41.4517049929 , -81.8481970071\n",
      "39.9753519607 , -105.093241427\n",
      "43.6616148536 , -70.2543139821\n",
      "33.4516237945 , -117.647024453\n",
      "40.5636246145 , -74.5260342618\n",
      "37.566535 , 126.9779692\n",
      "34.068120213 , -117.226840491\n",
      "42.5315665167 , -82.9643414259\n",
      "32.950111 , -96.8839169833\n",
      "39.753989734 , -84.1896570774\n",
      "41.834299834 , -72.564616917\n",
      "34.0003015113 , -81.0370314623\n",
      "44.4805511868 , -73.1967836132\n",
      "34.1641826396 , -118.826450394\n",
      "40.9479843038 , -74.273485166\n",
      "41.1699096075 , -73.2181118679\n",
      "37.6922361 , -97.3375448\n",
      "40.5942228404 , -111.878982548\n",
      "32.7925748192 , -117.224742858\n",
      "42.7531482392 , -71.4595449098\n",
      "45.0993245667 , -93.2744349471\n",
      "41.826902251 , -88.3132385608\n",
      "27.9547452294 , -82.7909158902\n",
      "30.4507462 , -91.154551\n",
      "42.21333552 , -87.97050709\n",
      "47.78685907 , -122.191604392\n",
      "39.165325 , -86.5263857\n",
      "33.955129368 , -117.397065084\n",
      "43.5499749 , -96.700327\n",
      "27.916103902 , -82.248417849\n",
      "40.1130731796 , -74.9182825714\n",
      "-7.26771537143 , 112.741673265\n",
      "47.987896502 , -122.199018469\n",
      "42.5226011612 , -70.9078836449\n",
      "38.8223861979 , -77.4201521396\n",
      "36.0725413292 , -79.7944798333\n",
      "33.6502843604 , -84.4375800063\n",
      "26.7083577292 , -80.0519220333\n",
      "42.2428485521 , -70.9638145125\n",
      "40.8671744957 , -73.3805551681\n",
      "36.1539816 , -95.992775\n",
      "13.7867983383 , 100.615515391\n",
      "38.7203514319 , -121.244884155\n",
      "-22.9035393 , -43.2095869\n",
      "33.4858127696 , -86.799240813\n",
      "28.2919557 , -81.407571\n",
      "27.6648274 , -81.5157535\n",
      "41.7207068239 , -87.7146183739\n",
      "38.7423883783 , -77.2191320478\n",
      "32.062687937 , -81.1015702087\n",
      "28.5290503717 , -81.556475687\n",
      "39.3629438756 , -74.4259267356\n",
      "29.6516344 , -82.3248262\n",
      "41.3476789311 , -73.4514061733\n",
      "42.9331308822 , -78.75293654\n",
      "30.41275364 , -87.2098405667\n",
      "41.5227277683 , -90.5410787241\n",
      "38.8813958 , -94.8191285\n",
      "44.2601702822 , -88.4138840378\n",
      "40.2194914023 , -74.7935844977\n",
      "55.7483495182 , 37.6238504182\n",
      "36.7477272 , -119.7723661\n",
      "42.195567207 , -71.1867695767\n",
      "41.243690693 , -73.0647814674\n",
      "47.2983682907 , -122.36173786\n",
      "33.8830840395 , -117.563957833\n",
      "33.9725748214 , -118.168370667\n",
      "26.4888424714 , -80.0700818714\n",
      "3.13427592143 , 101.675559869\n",
      "38.9716689 , -95.2352501\n",
      "40.1138411 , -88.2367026143\n",
      "42.434621381 , -71.4507142143\n",
      "34.0775016738 , -84.0464900333\n",
      "38.6101854024 , -90.5517497738\n",
      "45.4277174119 , -122.789654569\n",
      "31.9685988 , -99.9018131\n",
      "42.6142514244 , -71.1238334561\n",
      "41.079273 , -85.1393513\n",
      "33.604978652 , -86.6369663411\n",
      "30.4948140268 , -97.6674049366\n",
      "42.6772062475 , -73.751230325\n",
      "36.359582685 , -94.179476005\n",
      "36.973905175 , -122.020079637\n",
      "40.1672413025 , -75.1301481225\n",
      "40.49620266 , -88.99246486\n",
      "33.362778 , -112.168611\n",
      "38.0529279625 , -122.276567105\n",
      "40.5255315949 , -74.6474131692\n",
      "52.5234051 , 13.4113999\n",
      "42.2549394487 , -71.449731159\n",
      "39.4177846205 , -76.5977886615\n",
      "35.9250637 , -86.8688899\n",
      "39.7359429795 , -75.5505086385\n",
      "41.6218424103 , -87.7797234\n",
      "51.045 , -114.0572222\n",
      "45.4010912895 , -75.7051333684\n",
      "26.1388437868 , -80.3343468368\n",
      "41.2183379947 , -73.9347954842\n",
      "28.0382682737 , -81.9478057947\n",
      "40.2735251 , -76.8905458658\n",
      "42.5606268974 , -71.2227763526\n",
      "38.9818042895 , -76.4996073974\n",
      "39.0956106892 , -76.8881444054\n",
      "42.259057073 , -71.7908365459\n",
      "47.8052920108 , -122.344463373\n",
      "40.1004283838 , -83.1100312676\n",
      "34.7514357595 , -92.2848499243\n",
      "40.7667936278 , -73.0623110667\n",
      "-0.789275 , 113.921327\n",
      "39.71222905 , -86.3767605722\n",
      "28.0654871667 , -80.5993049111\n",
      "44.8994369333 , -93.6290790944\n",
      "29.9867312917 , -90.2039336556\n",
      "42.9895155361 , -71.4658843528\n",
      "41.7068693 , -73.9256479722\n",
      "42.2985620057 , -88.27068894\n",
      "47.5317897257 , -122.028410329\n",
      "40.1304704629 , -82.9411098857\n",
      "40.9604889971 , -72.2086191457\n",
      "39.4130433118 , -77.4112680382\n",
      "42.6526391382 , -83.0084165088\n",
      "39.9186171912 , -75.3381714529\n",
      "42.4392219676 , -82.9152793647\n",
      "39.3310494441 , -74.5753354824\n",
      "34.7303688 , -86.5861037\n",
      "33.5095943 , -117.165718494\n",
      "38.3047222 , -122.2988889\n",
      "42.0166667 , -94.3766667\n",
      "41.5062953765 , -73.08288425\n",
      "43.0164474294 , -88.2321349\n",
      "34.1014873 , -84.5193754\n",
      "29.2111177303 , -81.0235402152\n",
      "34.2257255 , -77.9447102\n",
      "38.4409558182 , -122.716739533\n",
      "33.3703197 , -112.5837766\n",
      "27.8005828 , -97.396381\n",
      "41.2741740909 , -73.8462644727\n",
      "-8.66436294545 , 115.211340188\n",
      "25.2644444 , 55.3116667\n",
      "35.5477464606 , -80.8283893576\n",
      "42.1353429312 , -71.4370658625\n",
      "40.6156626906 , -75.36652545\n",
      "35.0456297 , -85.3096801\n",
      "32.4619138719 , -84.9889333906\n",
      "42.101790225 , -75.9255298375\n",
      "39.5655266186 , -104.796156453\n",
      "34.0986573656 , -117.355809122\n",
      "43.1835389594 , -87.9564076344\n",
      "20.6762822937 , -103.347315313\n",
      "3.5848877375 , 98.67732915\n",
      "38.0317136 , -84.4951359\n",
      "46.7802946548 , -92.1008330452\n",
      "34.2659 , -119.258366\n",
      "52.3729639903 , 4.89231722258\n",
      "48.7595529 , -122.4882249\n",
      "40.3041310903 , -74.3125253806\n",
      "40.7935000452 , -77.857595071\n",
      "40.8803139323 , -73.0781473581\n",
      "44.6646869742 , -93.2282841645\n",
      "39.961863371 , -75.6021381419\n",
      "26.6440687097 , -81.8733119742\n",
      "14.5944461258 , 121.015826494\n",
      "40.1631208129 , -105.106372132\n",
      "41.4741657226 , -81.5239744581\n",
      "38.62457134 , -121.298144653\n",
      "39.9625984 , -76.727745\n",
      "39.94187741 , -74.1481392333\n",
      "39.0558235 , -95.6890185\n",
      "42.2817795133 , -71.58480652\n",
      "42.2530480733 , -83.17962893\n",
      "33.9323080533 , -83.9922039933\n",
      "33.5689814033 , -84.3290716233\n",
      "38.9985425966 , -76.813618669\n",
      "34.0050079 , -118.8100893\n",
      "39.024605131 , -84.5856282069\n",
      "21.3778098414 , -158.003045134\n",
      "38.0293059 , -78.4766781\n",
      "30.6442647897 , -96.3489137586\n",
      "36.2561300448 , -94.1243123241\n",
      "28.3297016724 , -80.6728876966\n",
      "27.3364347 , -82.5306527\n",
      "33.8333716 , -111.9507042\n",
      "36.1987264 , -86.5878606357\n",
      "25.8456722643 , -80.3188905964\n",
      "39.3565774429 , -84.4973694143\n",
      "42.058436 , -70.1786374\n",
      "41.6056416607 , -88.2038183179\n",
      "42.1923157893 , -88.29305955\n",
      "32.7253248 , -114.624397\n",
      "42.4439614 , -76.5018807\n",
      "46.729553 , -94.6858998\n",
      "-33.8606304286 , 151.204775929\n",
      "40.3731594393 , -74.51987565\n",
      "42.8932504214 , -87.863381425\n",
      "45.6387281 , -122.6614861\n",
      "35.8456213 , -86.39027\n",
      "33.5778631 , -101.8551665\n",
      "40.4196225464 , -79.8507862\n",
      "40.5116828821 , -80.1961084107\n",
      "61.2180556 , -149.9002778\n",
      "37.6594499444 , -77.5133409741\n",
      "46.8768199222 , -96.7872943778\n",
      "41.3580708 , -72.1052785556\n",
      "42.7261309 , -87.7828523\n",
      "36.0998596 , -80.244216\n",
      "31.230393 , 121.473704\n",
      "-33.4257406407 , -70.5707398593\n",
      "36.0572773889 , -94.1658606556\n",
      "41.5311774889 , -87.4926533852\n",
      "40.0289868111 , -76.3163172889\n",
      "45.5223169 , -122.411026963\n"
     ]
    },
    {
     "name": "stdout",
     "output_type": "stream",
     "text": [
      "43.4515758148 , -80.4999384815\n",
      "29.6195397923 , -95.6319761385\n",
      "39.6945237885 , -75.7521574923\n",
      "18.4339505077 , -66.1107003269\n",
      "-34.6119959577 , -58.3718653577\n",
      "41.9981228231 , -91.6697868692\n",
      "-7.79746918462 , 110.366031742\n",
      "42.1292241 , -80.085059\n",
      "40.1210773538 , -75.4908632731\n",
      "40.6940440923 , -89.5908347538\n",
      "41.2033216 , -77.1945247\n",
      "47.6587802 , -117.4260466\n",
      "33.2078221115 , -97.1251833654\n",
      "40.2862357385 , -111.688920623\n",
      "37.2136113231 , -93.2966431038\n",
      "32.9398771115 , -96.5904837115\n",
      "40.6294525 , -75.49198334\n",
      "42.087314624 , -88.284168884\n",
      "30.282790376 , -81.395321336\n",
      "34.6100243 , -112.315721\n",
      "41.712166196 , -71.433390084\n",
      "41.605020956 , -87.903899084\n",
      "40.290735404 , -75.132053236\n",
      "42.062429216 , -71.198006748\n",
      "43.074149144 , -70.772261672\n",
      "44.0247062 , -88.5426136\n",
      "38.7809192917 , -90.534779225\n",
      "39.755543 , -105.2210997\n",
      "41.5898431167 , -83.6716027833\n",
      "40.6473882708 , -74.602102525\n",
      "30.0080668292 , -95.2366504625\n",
      "36.59689935 , -121.892799779\n",
      "37.9753390208 , -121.737315162\n",
      "28.6641521875 , -81.1904694042\n",
      "41.3805865833 , -81.4496983417\n",
      "45.5254108 , -122.976122233\n",
      "39.3722121 , -104.8560902\n",
      "39.3460977304 , -76.4911708609\n",
      "41.1691865609 , -81.4073446696\n",
      "43.5521160609 , -79.6279655043\n",
      "38.7289405739 , -75.0896012696\n",
      "32.0595018783 , 34.788656713\n",
      "41.6813781391 , -91.5701626304\n",
      "41.00527 , 28.97696\n",
      "38.5966977348 , -122.857686835\n",
      "45.4086343696 , -122.630708961\n",
      "43.1900976826 , -70.8673582174\n",
      "40.4206875913 , -86.8895384652\n",
      "-37.8090540565 , 144.966681387\n",
      "39.5872222 , -78.8425\n",
      "47.0389673727 , -122.904727245\n",
      "43.1373693591 , -77.4511946136\n",
      "41.3638627182 , -81.5870070227\n",
      "43.2072670182 , -88.1173260909\n",
      "35.4087517 , -80.579511\n",
      "25.673211 , -100.309201\n",
      "39.7433898364 , -74.9635050136\n",
      "35.6005903136 , -82.5504359409\n",
      "33.8282948682 , -84.6241471636\n",
      "43.7844397 , -88.7878678\n",
      "44.5078962364 , -88.0276415045\n",
      "37.6370896727 , -120.995097818\n",
      "34.4235565636 , -119.845820482\n",
      "44.0216306 , -92.4698992\n",
      "36.9989217591 , -76.3916683091\n",
      "34.2694474 , -118.781482\n",
      "34.5400242 , -112.4685025\n",
      "35.2219971 , -101.8312969\n",
      "33.8206668619 , -116.530053814\n",
      "-6.18396622381 , 106.624447167\n",
      "34.483901 , -114.3224548\n",
      "37.6818745 , -121.7680088\n",
      "36.6777372 , -121.6555013\n",
      "32.8795022 , -111.7573521\n",
      "39.6417680476 , -106.562543733\n",
      "42.8197807905 , -73.9378692667\n",
      "42.3687123381 , -87.8883936476\n",
      "42.284991915 , -89.083953605\n",
      "35.2827524 , -120.6596156\n",
      "34.9530337 , -120.4357191\n",
      "34.2073196 , -84.1401926\n",
      "41.6619105 , -83.54837848\n",
      "38.545003715 , -121.738197205\n",
      "42.63824706 , -71.379054085\n",
      "39.670073315 , -84.12874245\n",
      "44.9428975 , -123.0350963\n",
      "40.63109402 , -89.40460156\n",
      "33.7075805737 , -116.237126942\n",
      "40.8566946211 , -74.6114275211\n",
      "32.216316 , -80.752608\n",
      "41.3376975316 , -81.8428690053\n",
      "22.396428 , 114.109497\n",
      "42.1832995316 , -88.1248734474\n",
      "41.3728435421 , -71.9548793263\n",
      "37.4315734 , -78.6568942\n",
      "26.1420358 , -81.7948103\n",
      "53.3428873263 , -6.26930292105\n",
      "41.4477306737 , -74.0284128789\n",
      "34.8697395 , -111.7609896\n",
      "35.6528323 , -97.4780954\n",
      "38.0182689158 , -121.851463084\n",
      "29.9382717474 , -93.9207204737\n",
      "26.2026892053 , -98.2316034\n",
      "38.4087993 , -121.3716178\n",
      "37.9745863333 , -87.5566949556\n",
      "41.1905306667 , -111.995420306\n",
      "38.4565458444 , -122.418960178\n",
      "-6.2474466 , 107.1484521\n",
      "41.48290625 , -72.8231859722\n",
      "30.6943566 , -88.0430541\n",
      "30.5174659167 , -97.8257521\n",
      "29.7857853 , -95.8243956\n",
      "42.3516742722 , -72.57957465\n",
      "40.3878639499 , -75.951441732\n",
      "48.4330612 , -123.361904533\n",
      "35.3732921 , -119.0187125\n",
      "47.6057968167 , -122.669803617\n",
      "40.6460622 , -111.4979729\n",
      "21.158964 , -86.845937\n",
      "40.4174554944 , -3.7009102\n",
      "41.8780025 , -93.097702\n",
      "32.6098566 , -85.4807825\n",
      "30.0799405 , -95.4171601\n",
      "37.9577016 , -121.2907796\n",
      "41.4460157647 , -75.6680767176\n",
      "37.1305012 , -121.6543901\n",
      "55.6868261765 , 12.5899425529\n",
      "44.7630567 , -85.6206317\n",
      "53.543564 , -113.490452\n",
      "34.6867846 , -118.1541632\n",
      "33.4758669765 , -82.0070491294\n",
      "41.1399814 , -104.8202462\n",
      "-33.0504619 , -71.6164515\n",
      "42.8806425 , -71.3272856\n",
      "43.685271 , -79.759924\n",
      "50.1115118 , 8.6805059\n",
      "35.5280783 , -108.7425843\n",
      "36.8252277 , -119.7029194\n",
      "42.115474425 , -79.2863677125\n",
      "43.6808560625 , -72.2879520875\n",
      "44.0581728 , -121.3153096\n",
      "43.0961709 , -88.40263155\n",
      "32.3199396 , -106.7636538\n",
      "41.6418709875 , -88.05172695\n",
      "41.2558453313 , -75.8874708938\n",
      "60.1699538875 , 24.9377301188\n",
      "42.7653543125 , -78.7826006875\n",
      "37.2046429 , -80.4126892\n",
      "37.2707022 , -76.7074571\n",
      "9.95896848125 , -84.1056328562\n",
      "41.63459085 , -72.6352340375\n",
      "34.935238425 , -82.234904475\n",
      "42.0598133813 , -70.9512573812\n",
      "38.0411820687 , -122.150053263\n",
      "30.4081673267 , -86.5283198533\n",
      "35.1113603429 , -89.7979821214\n",
      "41.4862008769 , -70.5977423615\n",
      "32.5989600231 , -96.8953653615\n",
      "41.5772242333 , -73.415722975\n",
      "41.2203980364 , -73.6666194182\n",
      "41.61853175 , -88.445568175\n",
      "38.65877915 , -76.8856871\n",
      "39.2494686 , -77.1821271\n"
     ]
    }
   ],
   "source": [
    "for point in optimal_clusters:\n",
    "    print point[0],\",\",point[1]"
   ]
  },
  {
   "cell_type": "markdown",
   "metadata": {},
   "source": [
    "Как мы помним, 20 баннеров надо разместить близ офисов компании. Найдем на Google Maps по запросу Carnival Cruise Line адреса всех офисов:"
   ]
  },
  {
   "cell_type": "markdown",
   "metadata": {},
   "source": [
    "33.751277, -118.188740 (Los Angeles)\n",
    "\n",
    "25.867736, -80.324116 (Miami)\n",
    "\n",
    "51.503016, -0.075479 (London)\n",
    "\n",
    "52.378894, 4.885084 (Amsterdam)\n",
    "\n",
    "39.366487, 117.036146 (Beijing)\n",
    "\n",
    "-33.868457, 151.205134 (Sydney)"
   ]
  },
  {
   "cell_type": "markdown",
   "metadata": {},
   "source": [
    "Осталось определить 20 ближайших к ним центров кластеров. Т.е. посчитать дистанцию до ближайшего офиса для каждой точки и выбрать 20 с наименьшим значением."
   ]
  },
  {
   "cell_type": "code",
   "execution_count": 133,
   "metadata": {},
   "outputs": [],
   "source": [
    "offices = [\n",
    "    [33.751277, -118.188740, \"Los Angeles\"],\n",
    "    [25.867736, -80.324116,  \"Miami\"],\n",
    "    [51.503016, -0.075479, \"London\"],\n",
    "    [52.378894, 4.885084, \"Amsterdam\"],\n",
    "    [39.366487, 117.036146, \"Beijing\"],\n",
    "    [-33.868457, 151.205134, \"Sydney\"]\n",
    "]"
   ]
  },
  {
   "cell_type": "markdown",
   "metadata": {},
   "source": [
    "Примечание: при подсчете расстояний и в кластеризации можно пренебречь тем, что Земля круглая, так как в точках, расположенных близко друг к другу погрешность мала, а в остальных точках значение достаточно велико."
   ]
  },
  {
   "cell_type": "code",
   "execution_count": 179,
   "metadata": {},
   "outputs": [],
   "source": [
    "l1, l2, _ = zip(*offices)\n",
    "points = zip(l1, l2)"
   ]
  },
  {
   "cell_type": "code",
   "execution_count": 181,
   "metadata": {},
   "outputs": [
    {
     "data": {
      "text/plain": [
       "array([[   0.        ,   38.67660752,  119.43980351,  124.47551675,\n",
       "         235.29189866,  277.75076557],\n",
       "       [  38.67660752,    0.        ,   84.24376132,   89.23816035,\n",
       "         197.82135703,  239.11128447],\n",
       "       [ 119.43980351,   84.24376132,    0.        ,    5.03729566,\n",
       "         117.73881283,  173.70697243],\n",
       "       [ 124.47551675,   89.23816035,    5.03729566,    0.        ,\n",
       "         112.9034253 ,  169.84746859],\n",
       "       [ 235.29189866,  197.82135703,  117.73881283,  112.9034253 ,\n",
       "           0.        ,   80.81384017],\n",
       "       [ 277.75076557,  239.11128447,  173.70697243,  169.84746859,\n",
       "          80.81384017,    0.        ]])"
      ]
     },
     "execution_count": 181,
     "metadata": {},
     "output_type": "execute_result"
    }
   ],
   "source": [
    "from scipy.spatial import distance\n",
    "distance.cdist(points, points, 'euclidean')"
   ]
  },
  {
   "cell_type": "code",
   "execution_count": 263,
   "metadata": {
    "collapsed": true
   },
   "outputs": [],
   "source": [
    "dist = distance.cdist(points, optimal_clusters) # get matirx with distances between every points"
   ]
  },
  {
   "cell_type": "code",
   "execution_count": 183,
   "metadata": {},
   "outputs": [
    {
     "data": {
      "text/plain": [
       "(6, 593)"
      ]
     },
     "execution_count": 183,
     "metadata": {},
     "output_type": "execute_result"
    }
   ],
   "source": [
    "dist.shape"
   ]
  },
  {
   "cell_type": "code",
   "execution_count": 195,
   "metadata": {},
   "outputs": [
    {
     "data": {
      "text/plain": [
       "array([[  44.74257092,    6.19395917,    6.29424146, ...,   30.76605219,\n",
       "          41.5935783 ,   41.37357142],\n",
       "       [  16.14371999,   32.5726786 ,   32.47447468, ...,   17.72133043,\n",
       "          13.24513413,   13.74564883],\n",
       "       [  74.69906582,  113.37331719,  113.2748328 , ...,   88.92117683,\n",
       "          77.87671339,   78.07422497],\n",
       "       [  79.73425538,  118.41008135,  118.31160891, ...,   93.94890117,\n",
       "          82.91381403,   83.1108233 ],\n",
       "       [ 191.0327603 ,  229.11470442,  229.01456477, ...,  205.49405482,\n",
       "         193.92312447,  194.21830835],\n",
       "       [ 237.22725876,  271.67953165,  271.58164907, ...,  251.2583223 ,\n",
       "         239.34415107,  239.80611351]])"
      ]
     },
     "execution_count": 195,
     "metadata": {},
     "output_type": "execute_result"
    }
   ],
   "source": [
    "dist"
   ]
  },
  {
   "cell_type": "markdown",
   "metadata": {},
   "source": [
    "Для сдачи задания выберите из получившихся 20 центров тот, который наименее удален от ближайшего к нему офиса. Ответ в этом задании — широта и долгота этого центра, записанные через пробел."
   ]
  },
  {
   "cell_type": "code",
   "execution_count": 197,
   "metadata": {},
   "outputs": [
    {
     "data": {
      "text/plain": [
       "array([[0, 1, 2],\n",
       "       [3, 4, 5]])"
      ]
     },
     "execution_count": 197,
     "metadata": {},
     "output_type": "execute_result"
    }
   ],
   "source": [
    "a = np.arange(6).reshape(2,3)\n",
    "a"
   ]
  },
  {
   "cell_type": "code",
   "execution_count": 198,
   "metadata": {},
   "outputs": [
    {
     "data": {
      "text/plain": [
       "array([[0, 1, 2, 3, 4, 5]])"
      ]
     },
     "execution_count": 198,
     "metadata": {},
     "output_type": "execute_result"
    }
   ],
   "source": [
    "a.reshape(1,6)"
   ]
  },
  {
   "cell_type": "code",
   "execution_count": 213,
   "metadata": {},
   "outputs": [
    {
     "data": {
      "text/plain": [
       "array([0, 1, 2, 3, 4, 5])"
      ]
     },
     "execution_count": 213,
     "metadata": {},
     "output_type": "execute_result"
    }
   ],
   "source": [
    "b = a.reshape(1,a.shape[0]*a.shape[1])[0]\n",
    "b"
   ]
  },
  {
   "cell_type": "code",
   "execution_count": 215,
   "metadata": {},
   "outputs": [
    {
     "data": {
      "text/plain": [
       "array([[0, 1, 2],\n",
       "       [3, 4, 5]])"
      ]
     },
     "execution_count": 215,
     "metadata": {},
     "output_type": "execute_result"
    }
   ],
   "source": [
    "b.reshape(a.shape[0],a.shape[1])"
   ]
  },
  {
   "cell_type": "code",
   "execution_count": 222,
   "metadata": {},
   "outputs": [
    {
     "data": {
      "text/plain": [
       "[(0, 0), (1, 1), (2, 2)]"
      ]
     },
     "execution_count": 222,
     "metadata": {},
     "output_type": "execute_result"
    }
   ],
   "source": [
    "import operator  # import itemgetter, attrgetter\n",
    "sorted(enumerate(b), key=operator.itemgetter(1) )[:3]"
   ]
  },
  {
   "cell_type": "code",
   "execution_count": 225,
   "metadata": {},
   "outputs": [],
   "source": [
    "dest_array = dist.reshape(1, dist.shape[0]*dist.shape[1])[0] # make one array for sorting"
   ]
  },
  {
   "cell_type": "code",
   "execution_count": 237,
   "metadata": {},
   "outputs": [
    {
     "data": {
      "text/plain": [
       "[(3375, 0.007834758163107856),\n",
       " (2151, 0.0093533161859922255),\n",
       " (995, 0.022674066158385495),\n",
       " (1244, 0.050058294822787869),\n",
       " (51, 0.070847732427199731),\n",
       " (622, 0.13410903336184654),\n",
       " (759, 0.16740596425035326),\n",
       " (685, 0.18887596060185083),\n",
       " (87, 0.19577945647763628),\n",
       " (42, 0.21181053682436798),\n",
       " (285, 0.22223329073179071),\n",
       " (908, 0.27130075950667348),\n",
       " (119, 0.29497888680045692),\n",
       " (648, 0.30227011869246051),\n",
       " (27, 0.30473050307840693),\n",
       " (11, 0.31488379033627317),\n",
       " (32, 0.33881047025113181),\n",
       " (751, 0.34084565332205718),\n",
       " (17, 0.37868750125029754),\n",
       " (47, 0.38670622484272771)]"
      ]
     },
     "execution_count": 237,
     "metadata": {},
     "output_type": "execute_result"
    }
   ],
   "source": [
    "dest_min_20 = sorted(enumerate(dest_array), key=operator.itemgetter(1))[:20] # sort with index saving\n",
    "dest_min_20\n"
   ]
  },
  {
   "cell_type": "code",
   "execution_count": 242,
   "metadata": {},
   "outputs": [
    {
     "name": "stdout",
     "output_type": "stream",
     "text": [
      "module 2 remainder 3 5\n"
     ]
    }
   ],
   "source": [
    "print \"module\",11//4,\"remainder\",11%4, 3375//dist.shape[1]"
   ]
  },
  {
   "cell_type": "code",
   "execution_count": 261,
   "metadata": {
    "collapsed": true
   },
   "outputs": [],
   "source": [
    "def index_restore(num, shape_m): # restore indexes into matrix\n",
    "    row = num // shape_m \n",
    "    col = num % shape_m \n",
    "    return [row, col]"
   ]
  },
  {
   "cell_type": "code",
   "execution_count": 259,
   "metadata": {},
   "outputs": [
    {
     "data": {
      "text/plain": [
       "593"
      ]
     },
     "execution_count": 259,
     "metadata": {},
     "output_type": "execute_result"
    }
   ],
   "source": [
    "dist.shape[1]"
   ]
  },
  {
   "cell_type": "code",
   "execution_count": 262,
   "metadata": {},
   "outputs": [
    {
     "name": "stdout",
     "output_type": "stream",
     "text": [
      "(3375, 0.007834758163107856) 593 5 410\n",
      "(2151, 0.0093533161859922255) 593 3 372\n",
      "(995, 0.022674066158385495) 593 1 402\n",
      "(1244, 0.050058294822787869) 593 2 58\n",
      "(51, 0.070847732427199731) 593 0 51\n",
      "(622, 0.13410903336184654) 593 1 29\n",
      "(759, 0.16740596425035326) 593 1 166\n",
      "(685, 0.18887596060185083) 593 1 92\n",
      "(87, 0.19577945647763628) 593 0 87\n",
      "(42, 0.21181053682436798) 593 0 42\n",
      "(285, 0.22223329073179071) 593 0 285\n",
      "(908, 0.27130075950667348) 593 1 315\n",
      "(119, 0.29497888680045692) 593 0 119\n",
      "(648, 0.30227011869246051) 593 1 55\n",
      "(27, 0.30473050307840693) 593 0 27\n",
      "(11, 0.31488379033627317) 593 0 11\n",
      "(32, 0.33881047025113181) 593 0 32\n",
      "(751, 0.34084565332205718) 593 1 158\n",
      "(17, 0.37868750125029754) 593 0 17\n",
      "(47, 0.38670622484272771) 593 0 47\n"
     ]
    }
   ],
   "source": [
    "for d in dest_min_20:\n",
    "    row, col = index_restore(d[0], dist.shape[1])\n",
    "    print d, dist.shape[1], row, col #print restored matrix indexes"
   ]
  },
  {
   "cell_type": "code",
   "execution_count": 248,
   "metadata": {
    "scrolled": true
   },
   "outputs": [
    {
     "name": "stdout",
     "output_type": "stream",
     "text": [
      "(3375, 0.007834758163107856) 593 5 410\n",
      "(2151, 0.0093533161859922255) 593 3 372\n",
      "(995, 0.022674066158385495) 593 1 402\n",
      "(1244, 0.050058294822787869) 593 2 58\n",
      "(51, 0.070847732427199731) 593 0 51\n",
      "(622, 0.13410903336184654) 593 1 29\n",
      "(759, 0.16740596425035326) 593 1 166\n",
      "(685, 0.18887596060185083) 593 1 92\n",
      "(87, 0.19577945647763628) 593 0 87\n",
      "(42, 0.21181053682436798) 593 0 42\n",
      "(285, 0.22223329073179071) 593 0 285\n",
      "(908, 0.27130075950667348) 593 1 315\n",
      "(119, 0.29497888680045692) 593 0 119\n",
      "(648, 0.30227011869246051) 593 1 55\n",
      "(27, 0.30473050307840693) 593 0 27\n",
      "(11, 0.31488379033627317) 593 0 11\n",
      "(32, 0.33881047025113181) 593 0 32\n",
      "(751, 0.34084565332205718) 593 1 158\n",
      "(17, 0.37868750125029754) 593 0 17\n",
      "(47, 0.38670622484272771) 593 0 47\n"
     ]
    }
   ],
   "source": [
    "for d in dest_min_20:\n",
    "    #row, col = index_restore(d[0], dist.shape[1])\n",
    "    print d, dist.shape[1], d[0]//dist.shape[1], d[0]% dist.shape[1] #, row, col"
   ]
  },
  {
   "cell_type": "code",
   "execution_count": 249,
   "metadata": {},
   "outputs": [
    {
     "data": {
      "text/plain": [
       "0.007834758163107856"
      ]
     },
     "execution_count": 249,
     "metadata": {},
     "output_type": "execute_result"
    }
   ],
   "source": [
    "dist[5][410] # get value off"
   ]
  },
  {
   "cell_type": "code",
   "execution_count": 250,
   "metadata": {},
   "outputs": [
    {
     "data": {
      "text/plain": [
       "array([ -33.86063043,  151.20477593])"
      ]
     },
     "execution_count": 250,
     "metadata": {},
     "output_type": "execute_result"
    }
   ],
   "source": [
    "optimal_clusters[410]"
   ]
  },
  {
   "cell_type": "code",
   "execution_count": null,
   "metadata": {
    "collapsed": true
   },
   "outputs": [],
   "source": []
  }
 ],
 "metadata": {
  "kernelspec": {
   "display_name": "Python 2",
   "language": "python",
   "name": "python2"
  },
  "language_info": {
   "codemirror_mode": {
    "name": "ipython",
    "version": 2
   },
   "file_extension": ".py",
   "mimetype": "text/x-python",
   "name": "python",
   "nbconvert_exporter": "python",
   "pygments_lexer": "ipython2",
   "version": "2.7.13"
  }
 },
 "nbformat": 4,
 "nbformat_minor": 2
}
